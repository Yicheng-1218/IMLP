{
 "cells": [
  {
   "cell_type": "markdown",
   "source": [
    "# Ensemble/Voting Classification in Python with Scikit-Learn\r\n",
    "ref：<a href='https://www.kaggle.com/c/titanic/submit'>https://www.kaggle.com/c/titanic/submit</a>"
   ],
   "metadata": {}
  },
  {
   "cell_type": "code",
   "execution_count": 25,
   "source": [
    "import pandas as pd\r\n",
    "import numpy as np\r\n",
    "import warnings\r\n",
    "\r\n",
    "from sklearn.preprocessing import LabelEncoder, StandardScaler\r\n",
    "from sklearn.metrics import accuracy_score, f1_score, log_loss\r\n",
    "from sklearn.model_selection import train_test_split, KFold, cross_val_score\r\n",
    "\r\n",
    "from sklearn.svm import SVC\r\n",
    "from sklearn.linear_model import LogisticRegression\r\n",
    "from sklearn.tree import DecisionTreeClassifier\r\n",
    "from sklearn.ensemble import VotingClassifier\r\n",
    "from sklearn.ensemble import BaggingClassifier\r\n",
    "from sklearn.ensemble import AdaBoostClassifier, RandomForestClassifier, ExtraTreesClassifier"
   ],
   "outputs": [],
   "metadata": {}
  },
  {
   "cell_type": "code",
   "execution_count": 26,
   "source": [
    "training_data = pd.read_csv('./data/train.csv')\r\n",
    "testing_data = pd.read_csv('./data/test.csv')\r\n",
    "def get_nulls(training, testing):\r\n",
    "    print(\"Training Data:\")\r\n",
    "    print(pd.isnull(training).sum())\r\n",
    "    print(\"Testing Data:\")\r\n",
    "    print(pd.isnull(testing).sum())\r\n",
    "\r\n",
    "get_nulls(training_data, testing_data)"
   ],
   "outputs": [
    {
     "output_type": "stream",
     "name": "stdout",
     "text": [
      "Training Data:\n",
      "PassengerId      0\n",
      "Survived         0\n",
      "Pclass           0\n",
      "Name             0\n",
      "Sex              0\n",
      "Age            177\n",
      "SibSp            0\n",
      "Parch            0\n",
      "Ticket           0\n",
      "Fare             0\n",
      "Cabin          687\n",
      "Embarked         2\n",
      "dtype: int64\n",
      "Testing Data:\n",
      "PassengerId      0\n",
      "Pclass           0\n",
      "Name             0\n",
      "Sex              0\n",
      "Age             86\n",
      "SibSp            0\n",
      "Parch            0\n",
      "Ticket           0\n",
      "Fare             1\n",
      "Cabin          327\n",
      "Embarked         0\n",
      "dtype: int64\n"
     ]
    }
   ],
   "metadata": {
    "scrolled": true
   }
  },
  {
   "cell_type": "code",
   "execution_count": 27,
   "source": [
    "# Drop the cabin column, as there are too many missing values\r\n",
    "# Drop the ticket numbers too, as there are too many categories\r\n",
    "# Drop names as they won't really help predict survivors\r\n",
    "training_data.drop(labels=['Ticket','Name','Cabin'],axis=1,inplace=True)\r\n",
    "testing_data.drop(labels=['Ticket','Name','Cabin'],axis=1,inplace=True)\r\n",
    "\r\n",
    "\r\n",
    "# Taking the mean/average value would be impacted by the skew\r\n",
    "# so we should use the median value to impute missing values\r\n",
    "training_data[\"Age\"].fillna(training_data[\"Age\"].median(),inplace=True)\r\n",
    "testing_data[\"Age\"].fillna(training_data[\"Age\"].median(),inplace=True)\r\n",
    "training_data[\"Embarked\"].fillna('S',inplace=True)\r\n",
    "testing_data[\"Fare\"].fillna(training_data[\"Fare\"].median(),inplace=True)\r\n",
    "get_nulls(training_data, testing_data)"
   ],
   "outputs": [
    {
     "output_type": "stream",
     "name": "stdout",
     "text": [
      "Training Data:\n",
      "PassengerId    0\n",
      "Survived       0\n",
      "Pclass         0\n",
      "Sex            0\n",
      "Age            0\n",
      "SibSp          0\n",
      "Parch          0\n",
      "Fare           0\n",
      "Embarked       0\n",
      "dtype: int64\n",
      "Testing Data:\n",
      "PassengerId    0\n",
      "Pclass         0\n",
      "Sex            0\n",
      "Age            0\n",
      "SibSp          0\n",
      "Parch          0\n",
      "Fare           0\n",
      "Embarked       0\n",
      "dtype: int64\n"
     ]
    }
   ],
   "metadata": {}
  },
  {
   "cell_type": "code",
   "execution_count": 28,
   "source": [
    "# Fit the encoder on the data (Feature: Sex)\r\n",
    "encoder_1 = LabelEncoder()\r\n",
    "encoder_1.fit(training_data[\"Sex\"])\r\n",
    "\r\n",
    "# Transform and replace training data\r\n",
    "training_sex_encoded = encoder_1.transform(training_data[\"Sex\"])\r\n",
    "training_data[\"Sex\"] = training_sex_encoded\r\n",
    "test_sex_encoded = encoder_1.transform(testing_data[\"Sex\"])\r\n",
    "testing_data[\"Sex\"] = test_sex_encoded\r\n",
    "\r\n",
    "# Fit the encoder on the data (Feature: Embarked)\r\n",
    "encoder_2 = LabelEncoder()\r\n",
    "encoder_2.fit(training_data['Embarked'])\r\n",
    "training_embark_encoded=encoder_2.transform(training_data['Embarked'])\r\n",
    "training_data.Embarked=training_embark_encoded\r\n",
    "testing_embark_encode=encoder_2.transform(testing_data['Embarked'])\r\n",
    "testing_data.Embarked=testing_embark_encode\r\n",
    "\r\n",
    "\r\n",
    "# Any value we want to reshape needs be turned into array first\r\n",
    "ages_train = np.array(training_data[\"Age\"]).reshape(-1, 1)\r\n",
    "fares_train=np.array(training_data.Fare).reshape(-1,1)\r\n",
    "ages_test=np.array(testing_data.Age).reshape(-1,1)\r\n",
    "fares_test=np.array(testing_data.Fare).reshape(-1,1)\r\n",
    "\r\n",
    "# Scaler takes arrays\r\n",
    "scaler = StandardScaler()\r\n",
    "\r\n",
    "training_data[\"Age\"] = scaler.fit_transform(ages_train)\r\n",
    "training_data.Fare=scaler.fit_transform(fares_train)\r\n",
    "testing_data.Age=scaler.fit_transform(ages_test)\r\n",
    "testing_data.Fare=scaler.fit_transform(fares_test)"
   ],
   "outputs": [],
   "metadata": {}
  },
  {
   "cell_type": "code",
   "execution_count": 29,
   "source": [
    "# Now to select our training/testing data\r\n",
    "X_features = training_data.drop(labels=['PassengerId', 'Survived'], axis=1)\r\n",
    "y_labels = training_data['Survived']\r\n",
    "\r\n",
    "print(X_features.head(5))\r\n",
    "print(y_labels.head(5))\r\n",
    "\r\n",
    "# Make the train/test data from validation\r\n",
    "\r\n",
    "X_train, X_val, y_train, y_val = train_test_split(X_features, y_labels, test_size=0.1,random_state=12)"
   ],
   "outputs": [
    {
     "output_type": "stream",
     "name": "stdout",
     "text": [
      "   Pclass  Sex       Age  SibSp  Parch      Fare  Embarked\n",
      "0       3    1 -0.565736      1      0 -0.502445         2\n",
      "1       1    0  0.663861      1      0  0.786845         0\n",
      "2       3    0 -0.258337      0      0 -0.488854         2\n",
      "3       1    0  0.433312      1      0  0.420730         2\n",
      "4       3    1  0.433312      0      0 -0.486337         2\n",
      "0    0\n",
      "1    1\n",
      "2    1\n",
      "3    1\n",
      "4    0\n",
      "Name: Survived, dtype: int64\n"
     ]
    }
   ],
   "metadata": {}
  },
  {
   "cell_type": "markdown",
   "source": [
    "## Simple Averaging Approach"
   ],
   "metadata": {}
  },
  {
   "cell_type": "code",
   "execution_count": 30,
   "source": [
    "LogReg_clf = LogisticRegression()\r\n",
    "DTree_clf = DecisionTreeClassifier()\r\n",
    "SVC_clf = SVC()\r\n",
    "\r\n",
    "LogReg_clf.fit(X_train, y_train)\r\n",
    "DTree_clf.fit(X_train, y_train)\r\n",
    "SVC_clf.fit(X_train, y_train)\r\n",
    "\r\n",
    "LogReg_pred = LogReg_clf.predict(X_val)\r\n",
    "DTree_pred = DTree_clf.predict(X_val)\r\n",
    "SVC_pred = SVC_clf.predict(X_val)\r\n",
    "\r\n",
    "averaged_preds = (LogReg_pred + DTree_pred + SVC_pred)//3\r\n",
    "acc = accuracy_score(y_val, averaged_preds)\r\n",
    "print(acc)"
   ],
   "outputs": [
    {
     "output_type": "stream",
     "name": "stdout",
     "text": [
      "0.8\n"
     ]
    }
   ],
   "metadata": {}
  },
  {
   "cell_type": "markdown",
   "source": [
    "## Bagging Classification Example"
   ],
   "metadata": {}
  },
  {
   "cell_type": "code",
   "execution_count": 31,
   "source": [
    "logreg_bagging_model=BaggingClassifier(base_estimator=LogReg_clf,n_estimators=50,random_state=12)\r\n",
    "dtree_bagging_model=BaggingClassifier(base_estimator=DTree_clf,n_estimators=50,random_state=12)\r\n",
    "random_forest=RandomForestClassifier(n_estimators=100,random_state=12)\r\n",
    "extra_tress=ExtraTreesClassifier(n_estimators=100,random_state=12)\r\n",
    "\r\n",
    "def bagging_ensemble(model):\r\n",
    "    k_folds = KFold(n_splits=20, random_state=12,shuffle=True)\r\n",
    "    results = cross_val_score(model, X_train, y_train, cv=k_folds)\r\n",
    "    print(results.mean())\r\n",
    "\r\n",
    "bagging_ensemble(logreg_bagging_model)\r\n",
    "bagging_ensemble(dtree_bagging_model)\r\n",
    "bagging_ensemble(random_forest)\r\n",
    "bagging_ensemble(extra_tress)"
   ],
   "outputs": [
    {
     "output_type": "stream",
     "name": "stdout",
     "text": [
      "0.7927134146341464\n",
      "0.8188719512195123\n",
      "0.8113719512195123\n",
      "0.7963719512195122\n"
     ]
    }
   ],
   "metadata": {}
  },
  {
   "cell_type": "markdown",
   "source": [
    "## Boosting Classification Example"
   ],
   "metadata": {}
  },
  {
   "cell_type": "code",
   "execution_count": 32,
   "source": [
    "k_folds = KFold(n_splits=20, random_state=12,shuffle=True)\r\n",
    "num_estimators = [20, 40, 60, 80, 100]\r\n",
    "\r\n",
    "for i in num_estimators:\r\n",
    "    ada_boost = AdaBoostClassifier(n_estimators=i,random_state=12)\r\n",
    "    results = cross_val_score(ada_boost,X_train,y_train,cv=k_folds)\r\n",
    "    print(\"Results for {} estimators:\".format(i))\r\n",
    "    print(results.mean())"
   ],
   "outputs": [
    {
     "output_type": "stream",
     "name": "stdout",
     "text": [
      "Results for 20 estimators:\n",
      "0.8052134146341464\n",
      "Results for 40 estimators:\n",
      "0.8176524390243903\n",
      "Results for 60 estimators:\n",
      "0.8164329268292683\n",
      "Results for 80 estimators:\n",
      "0.8151524390243902\n",
      "Results for 100 estimators:\n",
      "0.8101524390243903\n"
     ]
    }
   ],
   "metadata": {}
  },
  {
   "cell_type": "markdown",
   "source": [
    "## voting\\Stacking Classification Example"
   ],
   "metadata": {}
  },
  {
   "cell_type": "code",
   "execution_count": 33,
   "source": [
    "voting_clf = VotingClassifier(estimators=[('SVC', SVC_clf), ('DTree', DTree_clf), ('LogReg', LogReg_clf)], voting='hard')\r\n",
    "voting_clf.fit(X_train, y_train)\r\n",
    "preds = voting_clf.predict(X_val)\r\n",
    "acc = accuracy_score(y_val, preds)\r\n",
    "l_loss = log_loss(y_val, preds)\r\n",
    "f1 = f1_score(y_val, preds)\r\n",
    "\r\n",
    "print(\"Accuracy is: \" + str(acc))\r\n",
    "print(\"Log Loss is: \" + str(l_loss))\r\n",
    "print(\"F1 Score is: \" + str(f1))"
   ],
   "outputs": [
    {
     "output_type": "stream",
     "name": "stdout",
     "text": [
      "Accuracy is: 0.8333333333333334\n",
      "Log Loss is: 5.756516038980461\n",
      "F1 Score is: 0.7761194029850748\n"
     ]
    }
   ],
   "metadata": {}
  },
  {
   "cell_type": "code",
   "execution_count": 43,
   "source": [
    "X_train"
   ],
   "outputs": [
    {
     "output_type": "execute_result",
     "data": {
      "text/html": [
       "<div>\n",
       "<style scoped>\n",
       "    .dataframe tbody tr th:only-of-type {\n",
       "        vertical-align: middle;\n",
       "    }\n",
       "\n",
       "    .dataframe tbody tr th {\n",
       "        vertical-align: top;\n",
       "    }\n",
       "\n",
       "    .dataframe thead th {\n",
       "        text-align: right;\n",
       "    }\n",
       "</style>\n",
       "<table border=\"1\" class=\"dataframe\">\n",
       "  <thead>\n",
       "    <tr style=\"text-align: right;\">\n",
       "      <th></th>\n",
       "      <th>Pclass</th>\n",
       "      <th>Sex</th>\n",
       "      <th>Age</th>\n",
       "      <th>SibSp</th>\n",
       "      <th>Parch</th>\n",
       "      <th>Fare</th>\n",
       "      <th>Embarked</th>\n",
       "    </tr>\n",
       "  </thead>\n",
       "  <tbody>\n",
       "    <tr>\n",
       "      <th>715</th>\n",
       "      <td>3</td>\n",
       "      <td>1</td>\n",
       "      <td>-0.796286</td>\n",
       "      <td>0</td>\n",
       "      <td>0</td>\n",
       "      <td>-0.494391</td>\n",
       "      <td>2</td>\n",
       "    </tr>\n",
       "    <tr>\n",
       "      <th>319</th>\n",
       "      <td>1</td>\n",
       "      <td>0</td>\n",
       "      <td>0.817561</td>\n",
       "      <td>1</td>\n",
       "      <td>1</td>\n",
       "      <td>2.059694</td>\n",
       "      <td>0</td>\n",
       "    </tr>\n",
       "    <tr>\n",
       "      <th>829</th>\n",
       "      <td>1</td>\n",
       "      <td>0</td>\n",
       "      <td>2.508257</td>\n",
       "      <td>0</td>\n",
       "      <td>0</td>\n",
       "      <td>0.962353</td>\n",
       "      <td>2</td>\n",
       "    </tr>\n",
       "    <tr>\n",
       "      <th>79</th>\n",
       "      <td>3</td>\n",
       "      <td>0</td>\n",
       "      <td>0.049062</td>\n",
       "      <td>0</td>\n",
       "      <td>0</td>\n",
       "      <td>-0.397241</td>\n",
       "      <td>2</td>\n",
       "    </tr>\n",
       "    <tr>\n",
       "      <th>484</th>\n",
       "      <td>1</td>\n",
       "      <td>1</td>\n",
       "      <td>-0.335187</td>\n",
       "      <td>1</td>\n",
       "      <td>0</td>\n",
       "      <td>1.185430</td>\n",
       "      <td>0</td>\n",
       "    </tr>\n",
       "    <tr>\n",
       "      <th>...</th>\n",
       "      <td>...</td>\n",
       "      <td>...</td>\n",
       "      <td>...</td>\n",
       "      <td>...</td>\n",
       "      <td>...</td>\n",
       "      <td>...</td>\n",
       "      <td>...</td>\n",
       "    </tr>\n",
       "    <tr>\n",
       "      <th>241</th>\n",
       "      <td>3</td>\n",
       "      <td>0</td>\n",
       "      <td>-0.104637</td>\n",
       "      <td>1</td>\n",
       "      <td>0</td>\n",
       "      <td>-0.336334</td>\n",
       "      <td>1</td>\n",
       "    </tr>\n",
       "    <tr>\n",
       "      <th>253</th>\n",
       "      <td>3</td>\n",
       "      <td>1</td>\n",
       "      <td>0.049062</td>\n",
       "      <td>1</td>\n",
       "      <td>0</td>\n",
       "      <td>-0.324253</td>\n",
       "      <td>2</td>\n",
       "    </tr>\n",
       "    <tr>\n",
       "      <th>390</th>\n",
       "      <td>1</td>\n",
       "      <td>1</td>\n",
       "      <td>0.510161</td>\n",
       "      <td>1</td>\n",
       "      <td>2</td>\n",
       "      <td>1.767741</td>\n",
       "      <td>2</td>\n",
       "    </tr>\n",
       "    <tr>\n",
       "      <th>667</th>\n",
       "      <td>3</td>\n",
       "      <td>1</td>\n",
       "      <td>-0.104637</td>\n",
       "      <td>0</td>\n",
       "      <td>0</td>\n",
       "      <td>-0.491874</td>\n",
       "      <td>2</td>\n",
       "    </tr>\n",
       "    <tr>\n",
       "      <th>843</th>\n",
       "      <td>3</td>\n",
       "      <td>1</td>\n",
       "      <td>0.394887</td>\n",
       "      <td>0</td>\n",
       "      <td>0</td>\n",
       "      <td>-0.518805</td>\n",
       "      <td>0</td>\n",
       "    </tr>\n",
       "  </tbody>\n",
       "</table>\n",
       "<p>801 rows × 7 columns</p>\n",
       "</div>"
      ],
      "text/plain": [
       "     Pclass  Sex       Age  SibSp  Parch      Fare  Embarked\n",
       "715       3    1 -0.796286      0      0 -0.494391         2\n",
       "319       1    0  0.817561      1      1  2.059694         0\n",
       "829       1    0  2.508257      0      0  0.962353         2\n",
       "79        3    0  0.049062      0      0 -0.397241         2\n",
       "484       1    1 -0.335187      1      0  1.185430         0\n",
       "..      ...  ...       ...    ...    ...       ...       ...\n",
       "241       3    0 -0.104637      1      0 -0.336334         1\n",
       "253       3    1  0.049062      1      0 -0.324253         2\n",
       "390       1    1  0.510161      1      2  1.767741         2\n",
       "667       3    1 -0.104637      0      0 -0.491874         2\n",
       "843       3    1  0.394887      0      0 -0.518805         0\n",
       "\n",
       "[801 rows x 7 columns]"
      ]
     },
     "metadata": {},
     "execution_count": 43
    }
   ],
   "metadata": {}
  },
  {
   "cell_type": "code",
   "execution_count": 35,
   "source": [
    "testing_data"
   ],
   "outputs": [
    {
     "output_type": "execute_result",
     "data": {
      "text/html": [
       "<div>\n",
       "<style scoped>\n",
       "    .dataframe tbody tr th:only-of-type {\n",
       "        vertical-align: middle;\n",
       "    }\n",
       "\n",
       "    .dataframe tbody tr th {\n",
       "        vertical-align: top;\n",
       "    }\n",
       "\n",
       "    .dataframe thead th {\n",
       "        text-align: right;\n",
       "    }\n",
       "</style>\n",
       "<table border=\"1\" class=\"dataframe\">\n",
       "  <thead>\n",
       "    <tr style=\"text-align: right;\">\n",
       "      <th></th>\n",
       "      <th>PassengerId</th>\n",
       "      <th>Pclass</th>\n",
       "      <th>Sex</th>\n",
       "      <th>Age</th>\n",
       "      <th>SibSp</th>\n",
       "      <th>Parch</th>\n",
       "      <th>Fare</th>\n",
       "      <th>Embarked</th>\n",
       "    </tr>\n",
       "  </thead>\n",
       "  <tbody>\n",
       "    <tr>\n",
       "      <th>0</th>\n",
       "      <td>892</td>\n",
       "      <td>3</td>\n",
       "      <td>1</td>\n",
       "      <td>0.371062</td>\n",
       "      <td>0</td>\n",
       "      <td>0</td>\n",
       "      <td>-0.497413</td>\n",
       "      <td>1</td>\n",
       "    </tr>\n",
       "    <tr>\n",
       "      <th>1</th>\n",
       "      <td>893</td>\n",
       "      <td>3</td>\n",
       "      <td>0</td>\n",
       "      <td>1.358985</td>\n",
       "      <td>1</td>\n",
       "      <td>0</td>\n",
       "      <td>-0.512278</td>\n",
       "      <td>2</td>\n",
       "    </tr>\n",
       "    <tr>\n",
       "      <th>2</th>\n",
       "      <td>894</td>\n",
       "      <td>2</td>\n",
       "      <td>1</td>\n",
       "      <td>2.544493</td>\n",
       "      <td>0</td>\n",
       "      <td>0</td>\n",
       "      <td>-0.464100</td>\n",
       "      <td>1</td>\n",
       "    </tr>\n",
       "    <tr>\n",
       "      <th>3</th>\n",
       "      <td>895</td>\n",
       "      <td>3</td>\n",
       "      <td>1</td>\n",
       "      <td>-0.221692</td>\n",
       "      <td>0</td>\n",
       "      <td>0</td>\n",
       "      <td>-0.482475</td>\n",
       "      <td>2</td>\n",
       "    </tr>\n",
       "    <tr>\n",
       "      <th>4</th>\n",
       "      <td>896</td>\n",
       "      <td>3</td>\n",
       "      <td>0</td>\n",
       "      <td>-0.616861</td>\n",
       "      <td>1</td>\n",
       "      <td>1</td>\n",
       "      <td>-0.417492</td>\n",
       "      <td>2</td>\n",
       "    </tr>\n",
       "    <tr>\n",
       "      <th>...</th>\n",
       "      <td>...</td>\n",
       "      <td>...</td>\n",
       "      <td>...</td>\n",
       "      <td>...</td>\n",
       "      <td>...</td>\n",
       "      <td>...</td>\n",
       "      <td>...</td>\n",
       "      <td>...</td>\n",
       "    </tr>\n",
       "    <tr>\n",
       "      <th>413</th>\n",
       "      <td>1305</td>\n",
       "      <td>3</td>\n",
       "      <td>1</td>\n",
       "      <td>-0.142658</td>\n",
       "      <td>0</td>\n",
       "      <td>0</td>\n",
       "      <td>-0.493455</td>\n",
       "      <td>2</td>\n",
       "    </tr>\n",
       "    <tr>\n",
       "      <th>414</th>\n",
       "      <td>1306</td>\n",
       "      <td>1</td>\n",
       "      <td>0</td>\n",
       "      <td>0.726714</td>\n",
       "      <td>0</td>\n",
       "      <td>0</td>\n",
       "      <td>1.314435</td>\n",
       "      <td>0</td>\n",
       "    </tr>\n",
       "    <tr>\n",
       "      <th>415</th>\n",
       "      <td>1307</td>\n",
       "      <td>3</td>\n",
       "      <td>1</td>\n",
       "      <td>0.687197</td>\n",
       "      <td>0</td>\n",
       "      <td>0</td>\n",
       "      <td>-0.507796</td>\n",
       "      <td>2</td>\n",
       "    </tr>\n",
       "    <tr>\n",
       "      <th>416</th>\n",
       "      <td>1308</td>\n",
       "      <td>3</td>\n",
       "      <td>1</td>\n",
       "      <td>-0.142658</td>\n",
       "      <td>0</td>\n",
       "      <td>0</td>\n",
       "      <td>-0.493455</td>\n",
       "      <td>2</td>\n",
       "    </tr>\n",
       "    <tr>\n",
       "      <th>417</th>\n",
       "      <td>1309</td>\n",
       "      <td>3</td>\n",
       "      <td>1</td>\n",
       "      <td>-0.142658</td>\n",
       "      <td>1</td>\n",
       "      <td>1</td>\n",
       "      <td>-0.236957</td>\n",
       "      <td>0</td>\n",
       "    </tr>\n",
       "  </tbody>\n",
       "</table>\n",
       "<p>418 rows × 8 columns</p>\n",
       "</div>"
      ],
      "text/plain": [
       "     PassengerId  Pclass  Sex       Age  SibSp  Parch      Fare  Embarked\n",
       "0            892       3    1  0.371062      0      0 -0.497413         1\n",
       "1            893       3    0  1.358985      1      0 -0.512278         2\n",
       "2            894       2    1  2.544493      0      0 -0.464100         1\n",
       "3            895       3    1 -0.221692      0      0 -0.482475         2\n",
       "4            896       3    0 -0.616861      1      1 -0.417492         2\n",
       "..           ...     ...  ...       ...    ...    ...       ...       ...\n",
       "413         1305       3    1 -0.142658      0      0 -0.493455         2\n",
       "414         1306       1    0  0.726714      0      0  1.314435         0\n",
       "415         1307       3    1  0.687197      0      0 -0.507796         2\n",
       "416         1308       3    1 -0.142658      0      0 -0.493455         2\n",
       "417         1309       3    1 -0.142658      1      1 -0.236957         0\n",
       "\n",
       "[418 rows x 8 columns]"
      ]
     },
     "metadata": {},
     "execution_count": 35
    }
   ],
   "metadata": {}
  },
  {
   "cell_type": "code",
   "execution_count": 36,
   "source": [
    "test=testing_data.drop(labels=['PassengerId'],axis=1)\r\n",
    "test.shape"
   ],
   "outputs": [
    {
     "output_type": "execute_result",
     "data": {
      "text/plain": [
       "(418, 7)"
      ]
     },
     "metadata": {},
     "execution_count": 36
    }
   ],
   "metadata": {}
  },
  {
   "cell_type": "code",
   "execution_count": 39,
   "source": [
    "submission_df=pd.DataFrame(columns=['PassengerId','Survived'])\r\n",
    "submission_df"
   ],
   "outputs": [
    {
     "output_type": "execute_result",
     "data": {
      "text/html": [
       "<div>\n",
       "<style scoped>\n",
       "    .dataframe tbody tr th:only-of-type {\n",
       "        vertical-align: middle;\n",
       "    }\n",
       "\n",
       "    .dataframe tbody tr th {\n",
       "        vertical-align: top;\n",
       "    }\n",
       "\n",
       "    .dataframe thead th {\n",
       "        text-align: right;\n",
       "    }\n",
       "</style>\n",
       "<table border=\"1\" class=\"dataframe\">\n",
       "  <thead>\n",
       "    <tr style=\"text-align: right;\">\n",
       "      <th></th>\n",
       "      <th>PassengerId</th>\n",
       "      <th>Survived</th>\n",
       "    </tr>\n",
       "  </thead>\n",
       "  <tbody>\n",
       "  </tbody>\n",
       "</table>\n",
       "</div>"
      ],
      "text/plain": [
       "Empty DataFrame\n",
       "Columns: [PassengerId, Survived]\n",
       "Index: []"
      ]
     },
     "metadata": {},
     "execution_count": 39
    }
   ],
   "metadata": {}
  },
  {
   "cell_type": "code",
   "execution_count": 45,
   "source": [
    "submission_df.PassengerId=testing_data.PassengerId\r\n",
    "preds=voting_clf.predict(test)\r\n",
    "submission_df.Survived=preds\r\n",
    "submission_df.to_csv('submission.csv',header=True,index=False)"
   ],
   "outputs": [],
   "metadata": {}
  },
  {
   "cell_type": "markdown",
   "source": [
    "<img src='./kaggle.png' ></img>"
   ],
   "metadata": {}
  }
 ],
 "metadata": {
  "kernelspec": {
   "name": "python3",
   "display_name": "Python 3.8.8 64-bit ('base': conda)"
  },
  "language_info": {
   "codemirror_mode": {
    "name": "ipython",
    "version": 3
   },
   "file_extension": ".py",
   "mimetype": "text/x-python",
   "name": "python",
   "nbconvert_exporter": "python",
   "pygments_lexer": "ipython3",
   "version": "3.8.8"
  },
  "interpreter": {
   "hash": "fcdafa320b1bd52415b4da26a3e91d8c55e0b68a992d8fe533e9215398eb0247"
  }
 },
 "nbformat": 4,
 "nbformat_minor": 5
}