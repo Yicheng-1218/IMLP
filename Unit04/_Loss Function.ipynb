{
 "cells": [
  {
   "cell_type": "markdown",
   "source": [
    "\n",
    "# 評估指標實作篇\n",
    "建立一個機器學習模型後，需要計算評估指標分數，<br>\n",
    "從指標中獲得反饋看模型表現的優劣，再繼續改進模型，直到達到理想的指標分數。\n",
    "\n"
   ],
   "metadata": {}
  },
  {
   "cell_type": "markdown",
   "source": [
    "<img  src=\"images/MAE.jpg\" align='left'/><br><br><br><br><br>\n",
    "<img  src=\"images/MSE.jpg\" align='left'/><br><br><br><br><br>\n",
    "<img  src=\"images/RMSE.jpg\" align='left'/><br><br><br><br><br>\n",
    "\n",
    "ANS<br>\n",
    "MAE =  1.4916666666666665<br>\n",
    "MSE =  2.72875<br>\n",
    "RMSE =  1.651892853668179<br>\n"
   ],
   "metadata": {}
  },
  {
   "cell_type": "code",
   "execution_count": 2,
   "source": [
    "target = [1.5, 2.1, 3.3, -4.7, -2.3, 0.75]\r\n",
    "prediction = [0.5, 1.5, 2.1, -2.2, 0.1, -0.5]"
   ],
   "outputs": [],
   "metadata": {}
  },
  {
   "cell_type": "code",
   "execution_count": 3,
   "source": [
    "error=[]\r\n",
    "absError=[]\r\n",
    "squaredError=[]\r\n",
    "for i in range(len(target)):\r\n",
    "    error.append(target[i]-prediction[i])\r\n",
    "    absError.append(abs(target[i]-prediction[i]))\r\n",
    "    squaredError.append((target[i]-prediction[i])**2)\r\n",
    "\r\n",
    "# print('Errors',error)\r\n",
    "# print('absError',absError)\r\n",
    "# print('squsredError',squaredError)\r\n",
    "#平均絕對誤差MAE\r\n",
    "print(\"Absolute Value of Error: \",absError)\r\n",
    "print(\"MAE = \",sum(absError)/len(absError))\r\n",
    "\r\n",
    "#均方誤差MSE\r\n",
    "print(\"Square Error: \",squaredError)\r\n",
    "print(\"MSE = \",sum(squaredError)/len(squaredError))\r\n",
    "\r\n",
    "#均方根誤差RMSE\r\n",
    "print(\"RMSE = \",(sum(squaredError)/len(squaredError))**0.5)\r\n",
    "\r\n",
    " \r\n",
    "\r\n"
   ],
   "outputs": [
    {
     "output_type": "stream",
     "name": "stdout",
     "text": [
      "Absolute Value of Error:  [1.0, 0.6000000000000001, 1.1999999999999997, 2.5, 2.4, 1.25]\n",
      "MAE =  1.4916666666666665\n",
      "Square Error:  [1.0, 0.3600000000000001, 1.4399999999999993, 6.25, 5.76, 1.5625]\n",
      "MSE =  2.72875\n",
      "RMSE =  1.651892853668179\n"
     ]
    }
   ],
   "metadata": {}
  },
  {
   "cell_type": "markdown",
   "source": [
    "#### other\n",
    "平均值 變異數 標準差"
   ],
   "metadata": {}
  },
  {
   "cell_type": "code",
   "execution_count": 4,
   "source": [
    "from math import sqrt\r\n",
    "targetDeviation = []\r\n",
    "targetMean = sum(target) / len(target)#target平均值\r\n",
    "for val in target:\r\n",
    "    targetDeviation.append((val - targetMean) * (val - targetMean))\r\n",
    "print(\"Target Variance = \", sum(targetDeviation) / len(targetDeviation))#方差\r\n",
    "print(\"Target Standard Deviation = \", sqrt(sum(targetDeviation) / len(targetDeviation)))#標準差"
   ],
   "outputs": [
    {
     "output_type": "stream",
     "name": "stdout",
     "text": [
      "Target Variance =  7.570347222222222\n",
      "Target Standard Deviation =  2.7514263977475797\n"
     ]
    }
   ],
   "metadata": {}
  },
  {
   "cell_type": "markdown",
   "source": [
    "# sklearn\n",
    "from sklearn import metrics\n",
    "\n",
    ">Mean Absolute Error (MAE)代表平均誤差，公式為所有實際值及預測值相減的絕對值平均。\n",
    "\n",
    ">Mean Squared Error (MSE)比起MSE可以拉開誤差差距，算是蠻常用的指標，公式所有實際值及預測值相減的平方的平均\n",
    "\n",
    ">Root Mean Squared Error (RMSE)代表MSE的平方根。比起MSE更為常用，因為更容易解釋y。\n"
   ],
   "metadata": {}
  },
  {
   "cell_type": "code",
   "execution_count": 5,
   "source": [
    "from sklearn import metrics\r\n",
    "y_test = [1.5, 2.1, 3.3, -4.7, -2.3, 0.75]\r\n",
    "predictions = [0.5, 1.5, 2.1, -2.2, 0.1, -0.5]"
   ],
   "outputs": [],
   "metadata": {}
  },
  {
   "cell_type": "code",
   "execution_count": 6,
   "source": [
    "#載入迴歸常見的評估指標套件\r\n",
    "\r\n",
    "MAE=metrics.mean_absolute_error(y_test,prediction)\r\n",
    "MSE=metrics.mean_squared_error(y_test,prediction)\r\n",
    "RMSE= MSE**0.5\r\n",
    "\r\n",
    "print(\"MAE =  \", MAE)\r\n",
    "print(\"MSE = \", MSE)\r\n",
    "print(\"RMSE = \", RMSE)"
   ],
   "outputs": [
    {
     "output_type": "stream",
     "name": "stdout",
     "text": [
      "MAE =   1.4916666666666665\n",
      "MSE =  2.72875\n",
      "RMSE =  1.651892853668179\n"
     ]
    }
   ],
   "metadata": {}
  },
  {
   "cell_type": "code",
   "execution_count": null,
   "source": [],
   "outputs": [],
   "metadata": {}
  }
 ],
 "metadata": {
  "kernelspec": {
   "name": "python3",
   "display_name": "Python 3.8.8 64-bit ('base': conda)"
  },
  "language_info": {
   "codemirror_mode": {
    "name": "ipython",
    "version": 3
   },
   "file_extension": ".py",
   "mimetype": "text/x-python",
   "name": "python",
   "nbconvert_exporter": "python",
   "pygments_lexer": "ipython3",
   "version": "3.8.8"
  },
  "interpreter": {
   "hash": "fcdafa320b1bd52415b4da26a3e91d8c55e0b68a992d8fe533e9215398eb0247"
  }
 },
 "nbformat": 4,
 "nbformat_minor": 4
}