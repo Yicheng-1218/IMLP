{
 "cells": [
  {
   "cell_type": "markdown",
   "source": [
    "## Similarity \n",
    "manhattan_distance:  $$d(x,y)=\\sum^n_{i=1}|(x_i - y_i)|$$\n",
    "Euclidean :  $$d(x,y)=\\sqrt{\\sum^n_{i=1}(x_i - y_i)^2}$$\n",
    "Cosine:  $$\\theta(x,y)=\\frac{x \\bullet y}{ \\sqrt{x \\bullet x} \\sqrt{y \\bullet y}}$$\n",
    "\n",
    "使用numpy函數 ->\n",
    "Q: x1y1,x2y2哪個較不相關?\n",
    "\n",
    "x1 = [0,5]\n",
    "y1 = [1,5]\n",
    "\n",
    "x2 = [0,5]\n",
    "y2 = [100,5]\n",
    "\n"
   ],
   "metadata": {}
  },
  {
   "cell_type": "code",
   "execution_count": 1,
   "source": [
    "import numpy as np\r\n",
    "def manhattan_distance(x,y):\r\n",
    "    d1=np.sum(np.abs(x-y))\r\n",
    "def euclidean_distance(x,y):\r\n",
    "    return np.sqrt(np.sum(x-y) ** 2)\r\n",
    "def cosine_similarity(x,y):\r\n",
    "    return np.dot(x,y) / (np.sqrt(np.dot(x,x)) * np.sqrt(np.dot(y,y)))"
   ],
   "outputs": [],
   "metadata": {}
  },
  {
   "cell_type": "code",
   "execution_count": 2,
   "source": [
    "X1 = np.array([0,5])\r\n",
    "Y1 = np.array([1,5])\r\n",
    "print('x=[0,5],y=[1,5]')\r\n",
    "print(\"歐式距離(x1,y1)= \",euclidean_distance(X1,Y1))\r\n",
    "print(\"cos距離(x1,y1)= \",cosine_similarity(X1,Y1))\r\n",
    "print('\\nx=[100,5],y=[1,5]')\r\n",
    "\r\n",
    "X2 = np.array([0,5])\r\n",
    "Y2 = np.array([0,100])\r\n",
    "print(\"歐式距離(x2,y2)= \",euclidean_distance(X2,Y2))\r\n",
    "print(\"cos距離(x2,y2)= \",cosine_similarity(X2,Y2))\r\n",
    "print()\r\n",
    "print(\"cos值越大 角度越小 表示很有相關\")\r\n",
    "print(\"cos值越小 角度越大 表示越不相關 \")\r\n"
   ],
   "outputs": [
    {
     "output_type": "stream",
     "name": "stdout",
     "text": [
      "x=[0,5],y=[1,5]\n",
      "歐式距離(x1,y1)=  1.0\n",
      "cos距離(x1,y1)=  0.9805806756909201\n",
      "\n",
      "x=[100,5],y=[1,5]\n",
      "歐式距離(x2,y2)=  95.0\n",
      "cos距離(x2,y2)=  1.0\n",
      "\n",
      "cos值越大 角度越小 表示很有相關\n",
      "cos值越小 角度越大 表示越不相關 \n"
     ]
    }
   ],
   "metadata": {}
  },
  {
   "cell_type": "code",
   "execution_count": 3,
   "source": [
    "print(\"================================\")\r\n",
    "print(\"三維\")\r\n",
    "A = np.array([99,1,1])\r\n",
    "B = np.array([0,1,1])\r\n",
    "C = np.array([100,0,0])\r\n",
    "print('A={0},B={1},C={2}'.format(A,B,C))\r\n",
    "print(\"歐式距離(A,B)= \",euclidean_distance(A,B))\r\n",
    "print(\"歐式距離(A,C)= \",euclidean_distance(A,C))\r\n",
    "print(\"cos距離(A,B)= \",cosine_similarity(A,B))\r\n",
    "print(\"cos距離(A,C)= \",cosine_similarity(A,C))\r\n"
   ],
   "outputs": [
    {
     "output_type": "stream",
     "name": "stdout",
     "text": [
      "================================\n",
      "三維\n",
      "A=[99  1  1],B=[0 1 1],C=[100   0   0]\n",
      "歐式距離(A,B)=  99.0\n",
      "歐式距離(A,C)=  1.0\n",
      "cos距離(A,B)=  0.014283528198687934\n",
      "cos距離(A,C)=  0.9998979852075898\n"
     ]
    }
   ],
   "metadata": {}
  },
  {
   "cell_type": "code",
   "execution_count": 4,
   "source": [
    "print(\"================================\")\r\n",
    "print(\"多維\")\r\n",
    "a = np.array([1,0,0,0])\r\n",
    "b = np.array([1,0,1,1])\r\n",
    "c = np.array([1,1,1,1])\r\n",
    "d = np.array([10,0,0,0])\r\n",
    "print('a={0},b={1},c={2},d={3}'.format(a,b,c,d))\r\n",
    "print(\"歐式距離(a,c)= \",euclidean_distance(a,c))\r\n",
    "print(\"歐式距離(b,c)= \",euclidean_distance(b,c))\r\n",
    "print(\"歐式距離(c,c)= \",euclidean_distance(c,c))\r\n",
    "print(\"歐式距離(a,d)= \",euclidean_distance(a,d))\r\n",
    "print(\"cos距離(a,c)= \",cosine_similarity(a,c))\r\n",
    "print(\"cos距離(b,c)= \",cosine_similarity(b,c))\r\n",
    "print(\"cos距離(a,b)= \",cosine_similarity(a,b))\r\n",
    "print(\"cos距離(a,d)= \",cosine_similarity(a,d))\r\n",
    "print(\"ab ac 哪個比較近(cos距離)?\")"
   ],
   "outputs": [
    {
     "output_type": "stream",
     "name": "stdout",
     "text": [
      "================================\n",
      "多維\n",
      "a=[1 0 0 0],b=[1 0 1 1],c=[1 1 1 1],d=[10  0  0  0]\n",
      "歐式距離(a,c)=  3.0\n",
      "歐式距離(b,c)=  1.0\n",
      "歐式距離(c,c)=  0.0\n",
      "歐式距離(a,d)=  9.0\n",
      "cos距離(a,c)=  0.5\n",
      "cos距離(b,c)=  0.8660254037844387\n",
      "cos距離(a,b)=  0.5773502691896258\n",
      "cos距離(a,d)=  1.0\n",
      "ab ac 哪個比較近(cos距離)?\n"
     ]
    }
   ],
   "metadata": {}
  },
  {
   "cell_type": "markdown",
   "source": [
    "## 補充Cosine Similarity (sklearn)"
   ],
   "metadata": {}
  },
  {
   "cell_type": "code",
   "execution_count": 5,
   "source": [
    "from sklearn.metrics.pairwise import cosine_similarity\r\n",
    "\r\n",
    "# Vectors\r\n",
    "vec_a = [1, 2, 3, 4, 5]\r\n",
    "vec_b = [1, 3, 5, 7, 9]\r\n",
    "\r\n",
    "# Dot and norm\r\n",
    "dot = sum(a*b for a, b in zip(vec_a, vec_b))\r\n",
    "norm_a = sum(a*a for a in vec_a) ** 0.5\r\n",
    "norm_b = sum(b*b for b in vec_b) ** 0.5\r\n",
    "\r\n",
    "# Cosine similarity\r\n",
    "cos_sim = dot / (norm_a*norm_b)\r\n",
    "\r\n",
    "# Results\r\n",
    "print('My version:', cos_sim)\r\n",
    "print('Scikit-Learn:', cosine_similarity([vec_a], [vec_b]))"
   ],
   "outputs": [
    {
     "output_type": "stream",
     "name": "stdout",
     "text": [
      "My version: 0.9972413740548081\n",
      "Scikit-Learn: [[0.99724137]]\n"
     ]
    }
   ],
   "metadata": {}
  },
  {
   "cell_type": "code",
   "execution_count": null,
   "source": [],
   "outputs": [],
   "metadata": {}
  }
 ],
 "metadata": {
  "kernelspec": {
   "name": "python3",
   "display_name": "Python 3.8.8 64-bit ('base': conda)"
  },
  "language_info": {
   "codemirror_mode": {
    "name": "ipython",
    "version": 3
   },
   "file_extension": ".py",
   "mimetype": "text/x-python",
   "name": "python",
   "nbconvert_exporter": "python",
   "pygments_lexer": "ipython3",
   "version": "3.8.8"
  },
  "interpreter": {
   "hash": "fcdafa320b1bd52415b4da26a3e91d8c55e0b68a992d8fe533e9215398eb0247"
  }
 },
 "nbformat": 4,
 "nbformat_minor": 4
}