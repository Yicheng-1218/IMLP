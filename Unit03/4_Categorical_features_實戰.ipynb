{
 "cells": [
  {
   "cell_type": "markdown",
   "source": [
    "# 資料前處理(Label encoding、 One hot encoding)\n",
    "這兩個編碼方式的目的是為了將類別 (categorical)或是文字(text)的資料轉換成數字，而讓程式能夠更好的去理解及運算。\n",
    "> Label encoding : 把每個類別 mapping 到某個整數，不會增加新欄位\n",
    "\n",
    "> One hot encoding : 為每個類別新增一個欄位，用 0/1 表示是否\n",
    "\n",
    "![](images/Encoder.PNG)\n",
    "\n",
    "\n",
    "## Encoding Categorical features (or label)\n",
    "![](images/Encoding.PNG)\n"
   ],
   "metadata": {}
  },
  {
   "cell_type": "code",
   "execution_count": 3,
   "source": [
    "import pandas as pd\r\n",
    "import numpy as np\r\n"
   ],
   "outputs": [],
   "metadata": {}
  },
  {
   "cell_type": "code",
   "execution_count": 4,
   "source": [
    "df = pd.DataFrame({'blood':['A','B','AB','O','B'], \r\n",
    "                   'Y':['high','low','high','mid','mid'],\r\n",
    "                   'Z':[np.nan,np.nan,-1196,72,83]});\r\n",
    "df"
   ],
   "outputs": [
    {
     "output_type": "execute_result",
     "data": {
      "text/plain": [
       "  blood     Y       Z\n",
       "0     A  high     NaN\n",
       "1     B   low     NaN\n",
       "2    AB  high -1196.0\n",
       "3     O   mid    72.0\n",
       "4     B   mid    83.0"
      ],
      "text/html": [
       "<div>\n",
       "<style scoped>\n",
       "    .dataframe tbody tr th:only-of-type {\n",
       "        vertical-align: middle;\n",
       "    }\n",
       "\n",
       "    .dataframe tbody tr th {\n",
       "        vertical-align: top;\n",
       "    }\n",
       "\n",
       "    .dataframe thead th {\n",
       "        text-align: right;\n",
       "    }\n",
       "</style>\n",
       "<table border=\"1\" class=\"dataframe\">\n",
       "  <thead>\n",
       "    <tr style=\"text-align: right;\">\n",
       "      <th></th>\n",
       "      <th>blood</th>\n",
       "      <th>Y</th>\n",
       "      <th>Z</th>\n",
       "    </tr>\n",
       "  </thead>\n",
       "  <tbody>\n",
       "    <tr>\n",
       "      <th>0</th>\n",
       "      <td>A</td>\n",
       "      <td>high</td>\n",
       "      <td>NaN</td>\n",
       "    </tr>\n",
       "    <tr>\n",
       "      <th>1</th>\n",
       "      <td>B</td>\n",
       "      <td>low</td>\n",
       "      <td>NaN</td>\n",
       "    </tr>\n",
       "    <tr>\n",
       "      <th>2</th>\n",
       "      <td>AB</td>\n",
       "      <td>high</td>\n",
       "      <td>-1196.0</td>\n",
       "    </tr>\n",
       "    <tr>\n",
       "      <th>3</th>\n",
       "      <td>O</td>\n",
       "      <td>mid</td>\n",
       "      <td>72.0</td>\n",
       "    </tr>\n",
       "    <tr>\n",
       "      <th>4</th>\n",
       "      <td>B</td>\n",
       "      <td>mid</td>\n",
       "      <td>83.0</td>\n",
       "    </tr>\n",
       "  </tbody>\n",
       "</table>\n",
       "</div>"
      ]
     },
     "metadata": {},
     "execution_count": 4
    }
   ],
   "metadata": {}
  },
  {
   "cell_type": "markdown",
   "source": [
    "# 方法一：sklearn - label encoder + onehot encoder\n",
    ">onehot encoder要用2D array，若維度所以要用reshape(-1,1)<br>\n",
    ">onehot encoder要數字，若資料文文字要先用label encoder轉數字"
   ],
   "metadata": {}
  },
  {
   "cell_type": "code",
   "execution_count": 14,
   "source": [
    "from sklearn.preprocessing import LabelEncoder\r\n",
    "encoder = LabelEncoder()\r\n",
    "encoded_Y=encoder.fit_transform(df['blood'])\r\n",
    "encoded_Y\r\n",
    "df['blood']=encoded_Y\r\n",
    "df"
   ],
   "outputs": [
    {
     "output_type": "execute_result",
     "data": {
      "text/plain": [
       "   blood     Y       Z\n",
       "0      0  high     NaN\n",
       "1      2   low     NaN\n",
       "2      1  high -1196.0\n",
       "3      3   mid    72.0\n",
       "4      2   mid    83.0"
      ],
      "text/html": [
       "<div>\n",
       "<style scoped>\n",
       "    .dataframe tbody tr th:only-of-type {\n",
       "        vertical-align: middle;\n",
       "    }\n",
       "\n",
       "    .dataframe tbody tr th {\n",
       "        vertical-align: top;\n",
       "    }\n",
       "\n",
       "    .dataframe thead th {\n",
       "        text-align: right;\n",
       "    }\n",
       "</style>\n",
       "<table border=\"1\" class=\"dataframe\">\n",
       "  <thead>\n",
       "    <tr style=\"text-align: right;\">\n",
       "      <th></th>\n",
       "      <th>blood</th>\n",
       "      <th>Y</th>\n",
       "      <th>Z</th>\n",
       "    </tr>\n",
       "  </thead>\n",
       "  <tbody>\n",
       "    <tr>\n",
       "      <th>0</th>\n",
       "      <td>0</td>\n",
       "      <td>high</td>\n",
       "      <td>NaN</td>\n",
       "    </tr>\n",
       "    <tr>\n",
       "      <th>1</th>\n",
       "      <td>2</td>\n",
       "      <td>low</td>\n",
       "      <td>NaN</td>\n",
       "    </tr>\n",
       "    <tr>\n",
       "      <th>2</th>\n",
       "      <td>1</td>\n",
       "      <td>high</td>\n",
       "      <td>-1196.0</td>\n",
       "    </tr>\n",
       "    <tr>\n",
       "      <th>3</th>\n",
       "      <td>3</td>\n",
       "      <td>mid</td>\n",
       "      <td>72.0</td>\n",
       "    </tr>\n",
       "    <tr>\n",
       "      <th>4</th>\n",
       "      <td>2</td>\n",
       "      <td>mid</td>\n",
       "      <td>83.0</td>\n",
       "    </tr>\n",
       "  </tbody>\n",
       "</table>\n",
       "</div>"
      ]
     },
     "metadata": {},
     "execution_count": 14
    }
   ],
   "metadata": {}
  },
  {
   "cell_type": "code",
   "execution_count": 16,
   "source": [
    "from sklearn.preprocessing import OneHotEncoder\r\n",
    "OneHot=OneHotEncoder()\r\n",
    "d=np.array(df['blood'])\r\n",
    "onehot_df=OneHot.fit_transform(d.reshape(-1,1)).toarray()\r\n",
    "onehot_df"
   ],
   "outputs": [
    {
     "output_type": "execute_result",
     "data": {
      "text/plain": [
       "array([[1., 0., 0., 0.],\n",
       "       [0., 0., 1., 0.],\n",
       "       [0., 1., 0., 0.],\n",
       "       [0., 0., 0., 1.],\n",
       "       [0., 0., 1., 0.]])"
      ]
     },
     "metadata": {},
     "execution_count": 16
    }
   ],
   "metadata": {}
  },
  {
   "cell_type": "markdown",
   "source": [
    "## One hot encoding\n",
    "One Hot encoding的編碼邏輯為將類別拆成多個行(column)，每個列中的數值由1、0替代，當某一列的資料存在的該行的類別則顯示1，反則顯示0。\n",
    "\n",
    "然在指定column進行編碼的情形下，One hot encoding<b>無法直接對字串進行編碼，必須先透過Label encoding將字串以數字取代後再進行One hot encoding處理。</b>\n",
    "\n",
    "> categorical_features = [0]: 表示欲在data上執行One hot encoding的index為0\n",
    "\n",
    "> data_le: 為經過Label encoding編碼的資料(註:OneHotEncoder的輸入要為2-D array，而Label encoding為1-D array)\n"
   ],
   "metadata": {}
  },
  {
   "cell_type": "markdown",
   "source": [
    "OneHotEncoder會轉出scipy.csr_matrix資料結構用.toarray()轉array\n",
    "從結果可以知道，數字0的column 代表的是A、數字1的column 代表的是B，而數字2的column 代表的是AB。\n",
    "除了轉換字串外，One hot encoding也可以轉換數字。在此處的data就不需要先經過Label encoding編碼\n",
    "\n",
    "```python\n",
    "# importing one hot encoder from sklearn \n",
    "# There are changes in OneHotEncoder class \n",
    "from sklearn.preprocessing import OneHotEncoder \n",
    "from sklearn.compose import ColumnTransformer \n",
    "   \n",
    "# creating one hot encoder object with categorical feature 0 \n",
    "# indicating the first column \n",
    "columnTransformer = ColumnTransformer([('encoder', \n",
    "                                        OneHotEncoder(), \n",
    "                                        [0])], \n",
    "                                      remainder='passthrough') \n",
    "  \n",
    "data = np.array(columnTransformer.fit_transform(data), dtype = str) \n",
    "```"
   ],
   "metadata": {}
  },
  {
   "cell_type": "code",
   "execution_count": 18,
   "source": [
    "# importing one hot encoder from sklearn \r\n",
    "# There are changes in OneHotEncoder class \r\n",
    "from sklearn.preprocessing import OneHotEncoder \r\n",
    "from sklearn.compose import ColumnTransformer \r\n",
    "\r\n",
    "# creating one hot encoder object with categorical feature 0 \r\n",
    "# indicating the first column \r\n",
    "columnTransformer = ColumnTransformer([('encoder', \r\n",
    "                                        OneHotEncoder(), \r\n",
    "                                        [0])], \r\n",
    "                                      remainder='passthrough') \r\n",
    "\r\n",
    "data=np.array(columnTransformer.fit_transform(df),dtype=str)\r\n",
    "data\r\n",
    "pd.DataFrame(data)\r\n"
   ],
   "outputs": [
    {
     "output_type": "execute_result",
     "data": {
      "text/plain": [
       "     0    1    2    3     4        5\n",
       "0  1.0  0.0  0.0  0.0  high      nan\n",
       "1  0.0  0.0  1.0  0.0   low      nan\n",
       "2  0.0  1.0  0.0  0.0  high  -1196.0\n",
       "3  0.0  0.0  0.0  1.0   mid     72.0\n",
       "4  0.0  0.0  1.0  0.0   mid     83.0"
      ],
      "text/html": [
       "<div>\n",
       "<style scoped>\n",
       "    .dataframe tbody tr th:only-of-type {\n",
       "        vertical-align: middle;\n",
       "    }\n",
       "\n",
       "    .dataframe tbody tr th {\n",
       "        vertical-align: top;\n",
       "    }\n",
       "\n",
       "    .dataframe thead th {\n",
       "        text-align: right;\n",
       "    }\n",
       "</style>\n",
       "<table border=\"1\" class=\"dataframe\">\n",
       "  <thead>\n",
       "    <tr style=\"text-align: right;\">\n",
       "      <th></th>\n",
       "      <th>0</th>\n",
       "      <th>1</th>\n",
       "      <th>2</th>\n",
       "      <th>3</th>\n",
       "      <th>4</th>\n",
       "      <th>5</th>\n",
       "    </tr>\n",
       "  </thead>\n",
       "  <tbody>\n",
       "    <tr>\n",
       "      <th>0</th>\n",
       "      <td>1.0</td>\n",
       "      <td>0.0</td>\n",
       "      <td>0.0</td>\n",
       "      <td>0.0</td>\n",
       "      <td>high</td>\n",
       "      <td>nan</td>\n",
       "    </tr>\n",
       "    <tr>\n",
       "      <th>1</th>\n",
       "      <td>0.0</td>\n",
       "      <td>0.0</td>\n",
       "      <td>1.0</td>\n",
       "      <td>0.0</td>\n",
       "      <td>low</td>\n",
       "      <td>nan</td>\n",
       "    </tr>\n",
       "    <tr>\n",
       "      <th>2</th>\n",
       "      <td>0.0</td>\n",
       "      <td>1.0</td>\n",
       "      <td>0.0</td>\n",
       "      <td>0.0</td>\n",
       "      <td>high</td>\n",
       "      <td>-1196.0</td>\n",
       "    </tr>\n",
       "    <tr>\n",
       "      <th>3</th>\n",
       "      <td>0.0</td>\n",
       "      <td>0.0</td>\n",
       "      <td>0.0</td>\n",
       "      <td>1.0</td>\n",
       "      <td>mid</td>\n",
       "      <td>72.0</td>\n",
       "    </tr>\n",
       "    <tr>\n",
       "      <th>4</th>\n",
       "      <td>0.0</td>\n",
       "      <td>0.0</td>\n",
       "      <td>1.0</td>\n",
       "      <td>0.0</td>\n",
       "      <td>mid</td>\n",
       "      <td>83.0</td>\n",
       "    </tr>\n",
       "  </tbody>\n",
       "</table>\n",
       "</div>"
      ]
     },
     "metadata": {},
     "execution_count": 18
    }
   ],
   "metadata": {}
  },
  {
   "cell_type": "markdown",
   "source": [
    "# 方法二：Keras - label encoder + to_categorical\n",
    ">to_categorical要數字，若資料文文字要先用label encoder轉數字"
   ],
   "metadata": {}
  },
  {
   "cell_type": "code",
   "execution_count": 21,
   "source": [
    "from sklearn.preprocessing import LabelEncoder\r\n",
    "from keras.utils import np_utils\r\n",
    "\r\n",
    "df = pd.DataFrame({'blood':['A','B','AB','O','B'], \r\n",
    "                   'Y':['high','low','high','mid','mid'],\r\n",
    "                   'Z':[np.nan,np.nan,-1196,72,83]});\r\n",
    "\r\n",
    "# label encoder \r\n",
    "encoder = LabelEncoder()\r\n",
    "encoded_Y=encoder.fit_transform(df['blood'])\r\n",
    "encoded_Y\r\n",
    "df['blood']=encoded_Y\r\n",
    "df\r\n",
    "\r\n",
    "# convert integers to one hot encoding\r\n",
    "keras_onehot=np_utils.to_categorical(encoded_Y)\r\n",
    "keras_onehot\r\n"
   ],
   "outputs": [
    {
     "output_type": "execute_result",
     "data": {
      "text/plain": [
       "array([[1., 0., 0., 0.],\n",
       "       [0., 0., 1., 0.],\n",
       "       [0., 1., 0., 0.],\n",
       "       [0., 0., 0., 1.],\n",
       "       [0., 0., 1., 0.]], dtype=float32)"
      ]
     },
     "metadata": {},
     "execution_count": 21
    }
   ],
   "metadata": {}
  },
  {
   "cell_type": "markdown",
   "source": [
    "## 方法三：pd.get_dummies方法\n",
    "![](images/Encoding_pd.PNG)\n",
    "pd.get_dummies(df)\n",
    ">get_dummies可以直接轉字串，反而無法轉換數字<br>\n",
    ">get_dummies沒指定columns，會全部轉換"
   ],
   "metadata": {}
  },
  {
   "cell_type": "code",
   "execution_count": 23,
   "source": [
    "df = pd.DataFrame({'blood':['A','B','AB','O','B'], \r\n",
    "                   'Y':['high','low','high','mid','mid'],\r\n",
    "                   'Z':[np.nan,np.nan,-1196,72,83]})\r\n",
    "                \r\n",
    "df1=pd.get_dummies(df.blood)\r\n",
    "df1"
   ],
   "outputs": [
    {
     "output_type": "execute_result",
     "data": {
      "text/plain": [
       "   A  AB  B  O\n",
       "0  1   0  0  0\n",
       "1  0   0  1  0\n",
       "2  0   1  0  0\n",
       "3  0   0  0  1\n",
       "4  0   0  1  0"
      ],
      "text/html": [
       "<div>\n",
       "<style scoped>\n",
       "    .dataframe tbody tr th:only-of-type {\n",
       "        vertical-align: middle;\n",
       "    }\n",
       "\n",
       "    .dataframe tbody tr th {\n",
       "        vertical-align: top;\n",
       "    }\n",
       "\n",
       "    .dataframe thead th {\n",
       "        text-align: right;\n",
       "    }\n",
       "</style>\n",
       "<table border=\"1\" class=\"dataframe\">\n",
       "  <thead>\n",
       "    <tr style=\"text-align: right;\">\n",
       "      <th></th>\n",
       "      <th>A</th>\n",
       "      <th>AB</th>\n",
       "      <th>B</th>\n",
       "      <th>O</th>\n",
       "    </tr>\n",
       "  </thead>\n",
       "  <tbody>\n",
       "    <tr>\n",
       "      <th>0</th>\n",
       "      <td>1</td>\n",
       "      <td>0</td>\n",
       "      <td>0</td>\n",
       "      <td>0</td>\n",
       "    </tr>\n",
       "    <tr>\n",
       "      <th>1</th>\n",
       "      <td>0</td>\n",
       "      <td>0</td>\n",
       "      <td>1</td>\n",
       "      <td>0</td>\n",
       "    </tr>\n",
       "    <tr>\n",
       "      <th>2</th>\n",
       "      <td>0</td>\n",
       "      <td>1</td>\n",
       "      <td>0</td>\n",
       "      <td>0</td>\n",
       "    </tr>\n",
       "    <tr>\n",
       "      <th>3</th>\n",
       "      <td>0</td>\n",
       "      <td>0</td>\n",
       "      <td>0</td>\n",
       "      <td>1</td>\n",
       "    </tr>\n",
       "    <tr>\n",
       "      <th>4</th>\n",
       "      <td>0</td>\n",
       "      <td>0</td>\n",
       "      <td>1</td>\n",
       "      <td>0</td>\n",
       "    </tr>\n",
       "  </tbody>\n",
       "</table>\n",
       "</div>"
      ]
     },
     "metadata": {},
     "execution_count": 23
    }
   ],
   "metadata": {}
  },
  {
   "cell_type": "markdown",
   "source": [
    "## 練習一：sklearn - label encoder + onehot encoder\n",
    "下面的資料可以看到country那欄皆為字串， 大部分的模型都是基於數學運算，字串無法套入數學模型進行運算，<br>\n",
    "在此先對其進行Label encoding編碼，我們從 sklearn library中導入 LabelEncoder class，對第一行資料進行fit及transform並取代之。"
   ],
   "metadata": {}
  },
  {
   "cell_type": "code",
   "execution_count": 30,
   "source": [
    "import numpy as np\r\n",
    "import pandas as pd\r\n",
    "country=['Taiwan','Australia','Ireland','Australia','Ireland','Taiwan']\r\n",
    "age=[25,30,45,35,22,36]\r\n",
    "salary=[20000,32000,59000,60000,43000,52000]\r\n",
    "dic={'Country':country,'Age':age,'Salary':salary}\r\n",
    "data=pd.DataFrame(dic)\r\n",
    "data\r\n",
    "\r\n",
    "encoded_Y=encoder.fit_transform(data.Country)\r\n",
    "encoded_Y\r\n",
    "data.Country=encoded_Y\r\n",
    "data\r\n",
    "\r\n",
    "d=np.array(data.Country)\r\n",
    "OneHot.fit_transform(d.reshape(-1,1)).toarray()"
   ],
   "outputs": [
    {
     "output_type": "execute_result",
     "data": {
      "text/plain": [
       "array([[0., 0., 1.],\n",
       "       [1., 0., 0.],\n",
       "       [0., 1., 0.],\n",
       "       [1., 0., 0.],\n",
       "       [0., 1., 0.],\n",
       "       [0., 0., 1.]])"
      ]
     },
     "metadata": {},
     "execution_count": 30
    }
   ],
   "metadata": {}
  },
  {
   "cell_type": "markdown",
   "source": [
    "## 練習二：Keras - label encoder + to_categorical"
   ],
   "metadata": {}
  },
  {
   "cell_type": "code",
   "execution_count": 32,
   "source": [
    "from sklearn.preprocessing import LabelEncoder\r\n",
    "from keras.utils import np_utils\r\n",
    "\r\n",
    "country=['Taiwan','Australia','Ireland','Australia','Ireland','Taiwan']\r\n",
    "age=[25,30,45,35,22,36]\r\n",
    "salary=[20000,32000,59000,60000,43000,52000]\r\n",
    "dic={'Country':country,'Age':age,'Salary':salary}\r\n",
    "data=pd.DataFrame(dic)\r\n",
    "data\r\n",
    "\r\n",
    "encoded_Y=encoder.fit_transform(data.Country)\r\n",
    "encoded_Y\r\n",
    "data.Country=encoded_Y\r\n",
    "data\r\n",
    "\r\n",
    "keras_onehot=np_utils.to_categorical(data.Country)\r\n",
    "keras_onehot"
   ],
   "outputs": [
    {
     "output_type": "execute_result",
     "data": {
      "text/plain": [
       "array([[0., 0., 1.],\n",
       "       [1., 0., 0.],\n",
       "       [0., 1., 0.],\n",
       "       [1., 0., 0.],\n",
       "       [0., 1., 0.],\n",
       "       [0., 0., 1.]], dtype=float32)"
      ]
     },
     "metadata": {},
     "execution_count": 32
    }
   ],
   "metadata": {}
  },
  {
   "cell_type": "markdown",
   "source": [
    "## 練習三：Pandas.get_dummies\n",
    ">　get_dummies : 僅能將字串轉換為One hot encoding表示形式， 沒指定columns會全部轉換。"
   ],
   "metadata": {}
  },
  {
   "cell_type": "code",
   "execution_count": 34,
   "source": [
    "country=['Taiwan','Australia','Ireland','Australia','Ireland','Taiwan']\r\n",
    "age=[25,30,45,35,22,36]\r\n",
    "salary=[20000,32000,59000,60000,43000,52000]\r\n",
    "dic={'Country':country,'Age':age,'Salary':salary}\r\n",
    "data=pd.DataFrame(dic)\r\n",
    "data\r\n",
    "\r\n",
    "onehot=pd.get_dummies(data.Country)\r\n",
    "onehot"
   ],
   "outputs": [],
   "metadata": {}
  }
 ],
 "metadata": {
  "kernelspec": {
   "name": "python3",
   "display_name": "Python 3.8.8 64-bit ('base': conda)"
  },
  "language_info": {
   "codemirror_mode": {
    "name": "ipython",
    "version": 3
   },
   "file_extension": ".py",
   "mimetype": "text/x-python",
   "name": "python",
   "nbconvert_exporter": "python",
   "pygments_lexer": "ipython3",
   "version": "3.8.8"
  },
  "interpreter": {
   "hash": "fcdafa320b1bd52415b4da26a3e91d8c55e0b68a992d8fe533e9215398eb0247"
  }
 },
 "nbformat": 4,
 "nbformat_minor": 4
}