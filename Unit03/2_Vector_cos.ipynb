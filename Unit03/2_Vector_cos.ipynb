{
 "cells": [
  {
   "cell_type": "markdown",
   "source": [
    "# 向量內積的計算"
   ],
   "metadata": {}
  },
  {
   "cell_type": "code",
   "execution_count": 4,
   "source": [
    "import numpy as np\r\n",
    "import math\r\n",
    "\r\n",
    "a = np.array([1, 1])\r\n",
    "b = np.array([5, 5])\r\n",
    "c = np.array([1, 5])\r\n",
    "d = np.array([5, 1])\r\n",
    "\r\n",
    "ab = b - a                              # 向量ab\r\n",
    "cd = d - c                              # 向量bc\r\n",
    "\r\n",
    "norm_a = np.linalg.norm(ab)             # 計算向量大小\r\n",
    "norm_b = np.linalg.norm(cd)             # 計算向量大小\r\n",
    "                    \r\n",
    "dot_ab = np.dot(ab, cd)                 # 計算向量內積\r\n",
    "\r\n",
    "cos_angle = dot_ab / (norm_a * norm_b)  # 計算cos值\r\n",
    "print(\"cos值 = {}\".format(cos_angle))\r\n",
    "rad = math.acos(cos_angle)              # acos轉成弧度\r\n",
    "deg = math.degrees(rad)                 # 轉成角度\r\n",
    "print('角度是 = {}'.format(deg))\r\n",
    "\r\n"
   ],
   "outputs": [
    {
     "output_type": "stream",
     "name": "stdout",
     "text": [
      "cos值 = 0.0\n",
      "角度是 = 90.0\n"
     ]
    }
   ],
   "metadata": {}
  },
  {
   "cell_type": "markdown",
   "source": [
    "# 題目：判斷下列句子的相似程度\n",
    "Q：計算AB、AC、BC的相似程度\n",
    "```\n",
    "1. 機器與機械\n",
    "2. 學習機器碼\n",
    "3. 機器人學習\n",
    "\n",
    "A = (2,1,1,1,0,0,0,0)\n",
    "B = (1,1,0,0,1,1,1,0)\n",
    "C = (1,1,0,0,1,1,0,1)\n",
    "```\n",
    "\n",
    "![image.png](images/cos_similarity.PNG)\n",
    "\n",
    "Cosine:  $$\\theta(x,y)=\\frac{x \\bullet y}{ \\sqrt{x \\bullet x} \\sqrt{y \\bullet y}}$$"
   ],
   "metadata": {}
  },
  {
   "cell_type": "code",
   "execution_count": 5,
   "source": [
    "import numpy as np\r\n",
    "\r\n",
    "def cosine_similarity(vx, vy):\r\n",
    "    norm_x = np.linalg.norm(vx)                 # 計算向量大小\r\n",
    "    norm_y = np.linalg.norm(vy)                 # 計算向量大小\r\n",
    "    dot_xy = np.dot(vx, vy)                     # 計算向量內積\r\n",
    "    return (dot_xy / (norm_x * norm_y))         # 回傳相似度\r\n",
    "\r\n",
    "A = np.array([2, 1, 1, 1, 0, 0, 0, 0])\r\n",
    "B = np.array([1, 1, 0, 0, 1, 1, 1, 0])\r\n",
    "C = np.array([1, 1, 0, 0, 1, 1, 0, 1])\r\n",
    "print('A 和 B 相似度 = {0:5.3f}'.format(cosine_similarity(A, B)))\r\n",
    "print('A 和 C 相似度 = {0:5.3f}'.format(cosine_similarity(A, C)))\r\n",
    "print('B 和 C 相似度 = {0:5.3f}'.format(cosine_similarity(B, C)))\r\n"
   ],
   "outputs": [
    {
     "output_type": "stream",
     "name": "stdout",
     "text": [
      "A 和 B 相似度 = 0.507\n",
      "A 和 C 相似度 = 0.507\n",
      "B 和 C 相似度 = 0.800\n"
     ]
    }
   ],
   "metadata": {}
  },
  {
   "cell_type": "code",
   "execution_count": null,
   "source": [],
   "outputs": [],
   "metadata": {}
  }
 ],
 "metadata": {
  "kernelspec": {
   "name": "python3",
   "display_name": "Python 3.8.8 64-bit ('base': conda)"
  },
  "language_info": {
   "codemirror_mode": {
    "name": "ipython",
    "version": 3
   },
   "file_extension": ".py",
   "mimetype": "text/x-python",
   "name": "python",
   "nbconvert_exporter": "python",
   "pygments_lexer": "ipython3",
   "version": "3.8.8"
  },
  "interpreter": {
   "hash": "fcdafa320b1bd52415b4da26a3e91d8c55e0b68a992d8fe533e9215398eb0247"
  }
 },
 "nbformat": 4,
 "nbformat_minor": 5
}