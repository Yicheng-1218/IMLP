{
 "cells": [
  {
   "cell_type": "markdown",
   "source": [
    "## KNN電影分類特徵值的項目與評分\n",
    "### 題目：\n",
    "![](images/knn.png)\n",
    "### 答案：\n",
    "![output](images/knn_.png)"
   ],
   "metadata": {}
  },
  {
   "cell_type": "code",
   "execution_count": 4,
   "source": [
    "import math\r\n",
    "\r\n",
    "film = [5, 7, 8, 10, 2]             # 玩命關頭特徵值\r\n",
    "film_titles = [                     # 比較影片片名\r\n",
    "    '復仇者聯盟',\r\n",
    "    '決戰中途島',\r\n",
    "    '冰雪奇緣',\r\n",
    "    '雙子殺手',\r\n",
    "]\r\n",
    "film_features = [                   # 比較影片特徵值\r\n",
    "    [2, 8, 8, 5, 6],\r\n",
    "    [5, 6, 9, 2, 5],\r\n",
    "    [8, 2, 0, 0, 10],\r\n",
    "    [5, 8, 8, 8, 3],\r\n",
    "]\r\n",
    "\r\n",
    "# 儲存影片相似度值\r\n",
    "dist = [] \r\n",
    "#計算各電影相似程度\r\n",
    "for f in film_features:\r\n",
    "    distances=0\r\n",
    "    for i in range(len(f)):\r\n",
    "        distances+=(film[i]-f[i])**2\r\n",
    "    dist.append(distances)\r\n",
    "    \r\n",
    "# 求最小值\r\n",
    "min_film=min(dist)\r\n",
    "# 最小值的索引\r\n",
    "min_index=dist.index(min_film)\r\n",
    "\r\n",
    "\r\n",
    "print(\"與玩命關頭最相似的電影 : \",film_titles[min_index])\r\n",
    "print(\"相似度值 : \",dist[min_index])\r\n",
    "#印出玩命關頭與其他所有電影的相似程度\r\n",
    "for i in range(len(dist)):\r\n",
    "    print(\"影片 : %s, 相似度 : %6.2f\"%(film_titles[i], dist[i]))\r\n",
    "\r\n"
   ],
   "outputs": [
    {
     "output_type": "stream",
     "name": "stdout",
     "text": [
      "與玩命關頭最相似的電影 :  雙子殺手\n",
      "相似度值 :  6\n",
      "影片 : 復仇者聯盟, 相似度 :  51.00\n",
      "影片 : 決戰中途島, 相似度 :  75.00\n",
      "影片 : 冰雪奇緣, 相似度 : 262.00\n",
      "影片 : 雙子殺手, 相似度 :   6.00\n"
     ]
    }
   ],
   "metadata": {}
  },
  {
   "cell_type": "code",
   "execution_count": null,
   "source": [],
   "outputs": [],
   "metadata": {}
  },
  {
   "cell_type": "code",
   "execution_count": null,
   "source": [],
   "outputs": [],
   "metadata": {}
  }
 ],
 "metadata": {
  "kernelspec": {
   "name": "python3",
   "display_name": "Python 3.8.8 64-bit ('base': conda)"
  },
  "language_info": {
   "codemirror_mode": {
    "name": "ipython",
    "version": 3
   },
   "file_extension": ".py",
   "mimetype": "text/x-python",
   "name": "python",
   "nbconvert_exporter": "python",
   "pygments_lexer": "ipython3",
   "version": "3.8.8"
  },
  "interpreter": {
   "hash": "fcdafa320b1bd52415b4da26a3e91d8c55e0b68a992d8fe533e9215398eb0247"
  }
 },
 "nbformat": 4,
 "nbformat_minor": 4
}